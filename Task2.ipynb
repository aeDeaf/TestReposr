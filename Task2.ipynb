{
  "nbformat": 4,
  "nbformat_minor": 0,
  "metadata": {
    "colab": {
      "name": "Task2.ipynb",
      "version": "0.3.2",
      "provenance": [],
      "collapsed_sections": [],
      "include_colab_link": true
    },
    "kernelspec": {
      "name": "python3",
      "display_name": "Python 3"
    }
  },
  "cells": [
    {
      "cell_type": "markdown",
      "metadata": {
        "id": "view-in-github",
        "colab_type": "text"
      },
      "source": [
        "<a href=\"https://colab.research.google.com/github/aeDeaf/TestReposr/blob/master/Task2.ipynb\" target=\"_parent\"><img src=\"https://colab.research.google.com/assets/colab-badge.svg\" alt=\"Open In Colab\"/></a>"
      ]
    },
    {
      "metadata": {
        "id": "KywlImEAM9bl",
        "colab_type": "code",
        "colab": {}
      },
      "cell_type": "code",
      "source": [
        "import random\n",
        "import math\n",
        "\n",
        "import matplotlib.pyplot as plt\n",
        "%matplotlib inline"
      ],
      "execution_count": 0,
      "outputs": []
    },
    {
      "metadata": {
        "id": "s-GmL9gIN93X",
        "colab_type": "code",
        "colab": {}
      },
      "cell_type": "code",
      "source": [
        "random.seed()"
      ],
      "execution_count": 0,
      "outputs": []
    },
    {
      "metadata": {
        "id": "TuniscVFNOo1",
        "colab_type": "code",
        "colab": {}
      },
      "cell_type": "code",
      "source": [
        "p = 0.5"
      ],
      "execution_count": 0,
      "outputs": []
    },
    {
      "metadata": {
        "id": "2UsV5n4SQSFR",
        "colab_type": "code",
        "colab": {}
      },
      "cell_type": "code",
      "source": [
        "N = 1000000"
      ],
      "execution_count": 0,
      "outputs": []
    },
    {
      "metadata": {
        "id": "1mnuaU4YNWs7",
        "colab_type": "code",
        "colab": {}
      },
      "cell_type": "code",
      "source": [
        "def return_prob(k):\n",
        "  return - (p ** k) / (k * math.log(1 - p))"
      ],
      "execution_count": 0,
      "outputs": []
    },
    {
      "metadata": {
        "id": "1ql3xu6qNk15",
        "colab_type": "code",
        "colab": {}
      },
      "cell_type": "code",
      "source": [
        "def generate_new_number():\n",
        "  k = 1\n",
        "  M = random.random()\n",
        "  res = 0\n",
        "  while M > 0:\n",
        "    M -= return_prob(k)\n",
        "    res = k\n",
        "    k += 1\n",
        "  return res"
      ],
      "execution_count": 0,
      "outputs": []
    },
    {
      "metadata": {
        "id": "TdurhizCPSV2",
        "colab_type": "code",
        "colab": {}
      },
      "cell_type": "code",
      "source": [
        "res_list = []\n",
        "for _ in range(N):\n",
        "  res_list.append(generate_new_number())"
      ],
      "execution_count": 0,
      "outputs": []
    },
    {
      "metadata": {
        "id": "jmrOEvrJPpaU",
        "colab_type": "code",
        "colab": {}
      },
      "cell_type": "code",
      "source": [
        "amount_of_numbers = [0 for _ in range(1, max(res_list) + 1)]\n",
        "for res in res_list:\n",
        "  amount_of_numbers[res - 1] += 1"
      ],
      "execution_count": 0,
      "outputs": []
    },
    {
      "metadata": {
        "id": "HO8WKF4HQC7p",
        "colab_type": "code",
        "colab": {}
      },
      "cell_type": "code",
      "source": [
        "normed_aon = list(map(lambda x: x / N, amount_of_numbers))"
      ],
      "execution_count": 0,
      "outputs": []
    },
    {
      "metadata": {
        "id": "2uk5n1XRQlX1",
        "colab_type": "code",
        "colab": {}
      },
      "cell_type": "code",
      "source": [
        "x_list = [i for i in range(1, max(res_list) + 1)]"
      ],
      "execution_count": 0,
      "outputs": []
    },
    {
      "metadata": {
        "id": "tsxWmb0TQzhM",
        "colab_type": "code",
        "colab": {}
      },
      "cell_type": "code",
      "source": [
        "res_theor = list(map(lambda x: return_prob(x), x_list))"
      ],
      "execution_count": 0,
      "outputs": []
    },
    {
      "metadata": {
        "id": "XakDprPbQbrY",
        "colab_type": "code",
        "outputId": "9058ec33-e866-44f5-d4e4-822a8a826f99",
        "colab": {
          "base_uri": "https://localhost:8080/",
          "height": 282
        }
      },
      "cell_type": "code",
      "source": [
        "plt.bar(x_list, normed_aon)\n",
        "plt.plot(x_list, res_theor, 'ro--')"
      ],
      "execution_count": 0,
      "outputs": [
        {
          "output_type": "execute_result",
          "data": {
            "text/plain": [
              "[<matplotlib.lines.Line2D at 0x7f631db46748>]"
            ]
          },
          "metadata": {
            "tags": []
          },
          "execution_count": 335
        },
        {
          "output_type": "display_data",
          "data": {
            "image/png": "[encoded data removed]",
            "text/plain": [
              "<Figure size 432x288 with 1 Axes>"
            ]
          },
          "metadata": {
            "tags": []
          }
        }
      ]
    },
    {
      "metadata": {
        "id": "AWVqGw_sSTW-",
        "colab_type": "code",
        "outputId": "cef5d531-866e-47df-a4e6-f5180f499f8c",
        "colab": {
          "base_uri": "https://localhost:8080/",
          "height": 340
        }
      },
      "cell_type": "code",
      "source": [
        "res_dict = {x_list[i]: [amount_of_numbers[i], normed_aon[i], res_theor[i]] for i in range(max(res_list))}\n",
        "res_dict"
      ],
      "execution_count": 0,
      "outputs": [
        {
          "output_type": "execute_result",
          "data": {
            "text/plain": [
              "{1: [721196, 0.721196, 0.7213475204444817],\n",
              " 2: [180360, 0.18036, 0.18033688011112042],\n",
              " 3: [60112, 0.060112, 0.06011229337037348],\n",
              " 4: [22654, 0.022654, 0.022542110013890053],\n",
              " 5: [9001, 0.009001, 0.00901684400555602],\n",
              " 6: [3753, 0.003753, 0.0037570183356483424],\n",
              " 7: [1662, 0.001662, 0.0016101507152778611],\n",
              " 8: [718, 0.000718, 0.0007044409379340642],\n",
              " 9: [292, 0.000292, 0.0003130848613040285],\n",
              " 10: [138, 0.000138, 0.00014088818758681282],\n",
              " 11: [64, 6.4e-05, 6.40400852667331e-05],\n",
              " 12: [20, 2e-05, 2.9351705747252675e-05],\n",
              " 13: [15, 1.5e-05, 1.354694111411662e-05],\n",
              " 14: [9, 9e-06, 6.289651231554145e-06],\n",
              " 15: [2, 2e-06, 2.9351705747252674e-06],\n",
              " 16: [2, 2e-06, 1.375861206902469e-06],\n",
              " 17: [1, 1e-06, 6.474640973658678e-07],\n",
              " 18: [0, 0.0, 3.0574693486721535e-07],\n",
              " 19: [1, 1e-06, 1.4482749546341779e-07]}"
            ]
          },
          "metadata": {
            "tags": []
          },
          "execution_count": 336
        }
      ]
    }
  ]
}