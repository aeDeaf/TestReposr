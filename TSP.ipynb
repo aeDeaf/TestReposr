{
 "cells": [
  {
   "cell_type": "code",
   "execution_count": 1,
   "metadata": {
    "collapsed": true
   },
   "outputs": [],
   "source": [
    "import numpy\n",
    "import itertools\n",
    "from tqdm import tqdm\n",
    "import time\n",
    "import matplotlib.pyplot as plt\n",
    "from matplotlib import rc\n",
    "import math\n",
    "import copy\n",
    "%matplotlib inline"
   ]
  },
  {
   "cell_type": "code",
   "execution_count": 2,
   "metadata": {
    "collapsed": true
   },
   "outputs": [],
   "source": [
    "rc('text', usetex=True)"
   ]
  },
  {
   "cell_type": "code",
   "execution_count": 3,
   "metadata": {
    "collapsed": true
   },
   "outputs": [],
   "source": [
    "def dist(i, j):\n",
    "    return ((i - j) ** 2) + i"
   ]
  },
  {
   "cell_type": "code",
   "execution_count": 4,
   "metadata": {
    "collapsed": true
   },
   "outputs": [],
   "source": [
    "def calculate_dist(way):\n",
    "    s = 0\n",
    "    for index in range(1, len(way)):\n",
    "        s += dist(way[index - 1], way[index])\n",
    "    s += dist(way[len(way) - 1], way[0])\n",
    "    return s"
   ]
  },
  {
   "cell_type": "code",
   "execution_count": 5,
   "metadata": {
    "collapsed": true
   },
   "outputs": [],
   "source": [
    "def generate_ways(N):\n",
    "    cities = [i + 1 for i in range(N)]\n",
    "    all_ways = itertools.permutations(cities)\n",
    "    return all_ways"
   ]
  },
  {
   "cell_type": "code",
   "execution_count": 6,
   "metadata": {
    "collapsed": true
   },
   "outputs": [],
   "source": [
    "def find_min_way(all_ways):\n",
    "    ways_dist = list(map(lambda way: calculate_dist(way), all_ways))\n",
    "    return min(ways_dist)"
   ]
  },
  {
   "cell_type": "code",
   "execution_count": 7,
   "metadata": {},
   "outputs": [
    {
     "name": "stderr",
     "output_type": "stream",
     "text": [
      "100%|██████████| 9/9 [00:26<00:00,  7.68s/it]\n"
     ]
    }
   ],
   "source": [
    "time_list = []\n",
    "min_ways = []\n",
    "for i in tqdm(range(2, 11)):\n",
    "    start_time = time.time()\n",
    "    min_way = find_min_way(generate_ways(i))\n",
    "    work_time = time.time() - start_time\n",
    "    time_list.append(work_time)\n",
    "    min_ways.append(min_way)"
   ]
  },
  {
   "cell_type": "code",
   "execution_count": 8,
   "metadata": {
    "collapsed": true
   },
   "outputs": [],
   "source": [
    "points = [math.factorial(i) for i in range(2, 11)]"
   ]
  },
  {
   "cell_type": "code",
   "execution_count": 9,
   "metadata": {
    "collapsed": true
   },
   "outputs": [],
   "source": [
    "log_points = list(map(lambda i: math.log(i), points))\n",
    "log_time_list = list(map(lambda i: math.log(i), time_list))"
   ]
  },
  {
   "cell_type": "code",
   "execution_count": 10,
   "metadata": {},
   "outputs": [
    {
     "data": {
      "text/plain": [
       "[<matplotlib.lines.Line2D at 0x7faffc865898>]"
      ]
     },
     "execution_count": 10,
     "metadata": {},
     "output_type": "execute_result"
    },
    {
     "data": {
      "image/png": "[encoded data removed]",
      "text/plain": [
       "<matplotlib.figure.Figure at 0x7faffc865198>"
      ]
     },
     "metadata": {},
     "output_type": "display_data"
    }
   ],
   "source": [
    "plt.title('T(N!)')\n",
    "plt.xlabel('log(N!)')\n",
    "plt.ylabel('log(T)')\n",
    "plt.plot(log_points, log_time_list, 'x')"
   ]
  },
  {
   "cell_type": "code",
   "execution_count": 11,
   "metadata": {},
   "outputs": [
    {
     "data": {
      "text/plain": [
       "[5, 12, 20, 29, 39, 50, 62, 75, 89]"
      ]
     },
     "execution_count": 11,
     "metadata": {},
     "output_type": "execute_result"
    }
   ],
   "source": [
    "min_ways"
   ]
  },
  {
   "cell_type": "code",
   "execution_count": 12,
   "metadata": {},
   "outputs": [
    {
     "data": {
      "text/plain": [
       "[2.193450927734375e-05,\n",
       " 2.2172927856445312e-05,\n",
       " 8.368492126464844e-05,\n",
       " 0.00048279762268066406,\n",
       " 0.00594019889831543,\n",
       " 0.034560203552246094,\n",
       " 0.22849822044372559,\n",
       " 2.1689321994781494,\n",
       " 24.02472472190857]"
      ]
     },
     "execution_count": 12,
     "metadata": {},
     "output_type": "execute_result"
    }
   ],
   "source": [
    "time_list"
   ]
  },
  {
   "cell_type": "code",
   "execution_count": 13,
   "metadata": {
    "collapsed": true
   },
   "outputs": [],
   "source": [
    "epsilon = 0.3\n",
    "delta = 1 + epsilon"
   ]
  },
  {
   "cell_type": "code",
   "execution_count": 14,
   "metadata": {
    "collapsed": true
   },
   "outputs": [],
   "source": [
    "def average(data):\n",
    "    return sum(data) / len(data)"
   ]
  },
  {
   "cell_type": "code",
   "execution_count": 15,
   "metadata": {
    "collapsed": true
   },
   "outputs": [],
   "source": [
    "def find_way(cities, index):\n",
    "    min_way = min_ways[index - 2]\n",
    "    total_ways = math.factorial(index)\n",
    "    alpha_list = []\n",
    "    total_iters = []\n",
    "    for j in range(2000):\n",
    "        way = copy.deepcopy(cities)\n",
    "        numpy.random.shuffle(way)\n",
    "        i = 1\n",
    "        cur_way = calculate_dist(way)\n",
    "        while cur_way > (delta * min_way):\n",
    "            numpy.random.shuffle(way)\n",
    "            cur_way = calculate_dist(way)\n",
    "            i += 1\n",
    "        total_iters.append(i)\n",
    "        alpha = i / total_ways\n",
    "        alpha_list.append(alpha)\n",
    "    return average(alpha_list), average(total_iters)"
   ]
  },
  {
   "cell_type": "code",
   "execution_count": 16,
   "metadata": {},
   "outputs": [],
   "source": [
    "alpha_list = []\n",
    "total_iters = []\n",
    "for i in range(2, 11):\n",
    "    cities = numpy.array([j + 1 for j in range(i)])\n",
    "    alpha, iters = find_way(cities, i)\n",
    "    alpha_list.append(alpha)\n",
    "    total_iters.append(iters)"
   ]
  },
  {
   "cell_type": "code",
   "execution_count": 17,
   "metadata": {
    "collapsed": true
   },
   "outputs": [],
   "source": [
    "log_alpha_list = list(map(lambda i: math.log(i), alpha_list))"
   ]
  },
  {
   "cell_type": "code",
   "execution_count": 18,
   "metadata": {},
   "outputs": [
    {
     "data": {
      "text/plain": [
       "[<matplotlib.lines.Line2D at 0x7faffc48d908>]"
      ]
     },
     "execution_count": 18,
     "metadata": {},
     "output_type": "execute_result"
    },
    {
     "data": {
      "image/png": "[encoded data removed]",
      "text/plain": [
       "<matplotlib.figure.Figure at 0x7faffc4b4748>"
      ]
     },
     "metadata": {},
     "output_type": "display_data"
    }
   ],
   "source": [
    "plt.title(r'$\\alpha$(N!)')\n",
    "plt.xlabel('log(N!)')\n",
    "plt.ylabel(r'log($\\alpha$)')\n",
    "plt.grid(True)\n",
    "plt.plot(log_points, log_alpha_list, 'x')"
   ]
  },
  {
   "cell_type": "code",
   "execution_count": 19,
   "metadata": {},
   "outputs": [
    {
     "data": {
      "text/plain": [
       "[1.0, 1.0, 1.4945, 3.128, 6.5885, 11.282, 31.3995, 87.2695, 284.715]"
      ]
     },
     "execution_count": 19,
     "metadata": {},
     "output_type": "execute_result"
    }
   ],
   "source": [
    "total_iters"
   ]
  },
  {
   "cell_type": "code",
   "execution_count": null,
   "metadata": {
    "collapsed": true
   },
   "outputs": [],
   "source": []
  }
 ],
 "metadata": {
  "kernelspec": {
   "display_name": "Python 3",
   "language": "python",
   "name": "python3"
  },
  "language_info": {
   "codemirror_mode": {
    "name": "ipython",
    "version": 3
   },
   "file_extension": ".py",
   "mimetype": "text/x-python",
   "name": "python",
   "nbconvert_exporter": "python",
   "pygments_lexer": "ipython3",
   "version": "3.6.1"
  },
  "latex_envs": {
   "LaTeX_envs_menu_present": true,
   "autoclose": false,
   "autocomplete": true,
   "bibliofile": "biblio.bib",
   "cite_by": "apalike",
   "current_citInitial": 1,
   "eqLabelWithNumbers": true,
   "eqNumInitial": 1,
   "hotkeys": {
    "equation": "Ctrl-E",
    "itemize": "Ctrl-I"
   },
   "labels_anchors": false,
   "latex_user_defs": false,
   "report_style_numbering": false,
   "user_envs_cfg": false
  },
  "varInspector": {
   "cols": {
    "lenName": 16,
    "lenType": 16,
    "lenVar": 40
   },
   "kernels_config": {
    "python": {
     "delete_cmd_postfix": "",
     "delete_cmd_prefix": "del ",
     "library": "var_list.py",
     "varRefreshCmd": "print(var_dic_list())"
    },
    "r": {
     "delete_cmd_postfix": ") ",
     "delete_cmd_prefix": "rm(",
     "library": "var_list.r",
     "varRefreshCmd": "cat(var_dic_list()) "
    }
   },
   "position": {
    "height": "616px",
    "left": "1553px",
    "right": "20px",
    "top": "113px",
    "width": "359px"
   },
   "types_to_exclude": [
    "module",
    "function",
    "builtin_function_or_method",
    "instance",
    "_Feature"
   ],
   "window_display": true
  }
 },
 "nbformat": 4,
 "nbformat_minor": 2
}
